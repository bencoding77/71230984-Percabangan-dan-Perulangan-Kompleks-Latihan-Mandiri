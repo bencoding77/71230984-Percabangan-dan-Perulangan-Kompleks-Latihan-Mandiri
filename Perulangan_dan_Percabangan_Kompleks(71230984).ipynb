{
  "nbformat": 4,
  "nbformat_minor": 0,
  "metadata": {
    "colab": {
      "provenance": []
    },
    "kernelspec": {
      "name": "python3",
      "display_name": "Python 3"
    },
    "language_info": {
      "name": "python"
    }
  },
  "cells": [
    {
      "cell_type": "markdown",
      "source": [
        "Soal 1"
      ],
      "metadata": {
        "id": "6bvFasXX8f_x"
      }
    },
    {
      "cell_type": "code",
      "execution_count": 7,
      "metadata": {
        "colab": {
          "base_uri": "https://localhost:8080/"
        },
        "id": "5rCXzBd38Y69",
        "outputId": "cc068398-8e6d-4608-9349-6506dc43d8b8"
      },
      "outputs": [
        {
          "output_type": "stream",
          "name": "stdout",
          "text": [
            "Masukkan angka anda: 10\n",
            "Bilangan prima terdekat yang kurang dari 10 adalah 7\n"
          ]
        }
      ],
      "source": [
        "n = int(input(\"Masukkan angka anda: \"))\n",
        "prima = False\n",
        "\n",
        "for i in range(n - 1, 1, -1):\n",
        "    prima = True\n",
        "    for j in range(2, i - 1):\n",
        "        if i % j == 0:\n",
        "            prima = False\n",
        "            break\n",
        "\n",
        "    if prima:\n",
        "        print(f\"Bilangan prima terdekat yang kurang dari {n} adalah {i}\")\n",
        "        break"
      ]
    },
    {
      "cell_type": "markdown",
      "source": [
        "Soal 2"
      ],
      "metadata": {
        "id": "ZZI6TIcM9ByF"
      }
    },
    {
      "cell_type": "code",
      "source": [
        "n = int(input(\"Masukkan nilai n: \"))\n",
        "\n",
        "for i in range(0, n):\n",
        "    hasil = 1\n",
        "\n",
        "    for j in range(1, n - i + 1):\n",
        "        hasil *= j\n",
        "    print(hasil, \" \", end=\"\")\n",
        "\n",
        "    for k in range(n - i, 0, -1):\n",
        "        print(k, \" \", end=\"\")\n",
        "    print()"
      ],
      "metadata": {
        "colab": {
          "base_uri": "https://localhost:8080/"
        },
        "id": "IEMcF9-t9DCT",
        "outputId": "8c56b8b9-553a-483c-af3c-a1a215dd7840"
      },
      "execution_count": 8,
      "outputs": [
        {
          "output_type": "stream",
          "name": "stdout",
          "text": [
            "Masukkan nilai n: 5\n",
            "120  5  4  3  2  1  \n",
            "24  4  3  2  1  \n",
            "6  3  2  1  \n",
            "2  2  1  \n",
            "1  1  \n"
          ]
        }
      ]
    },
    {
      "cell_type": "markdown",
      "source": [
        "Soal 3"
      ],
      "metadata": {
        "id": "VF2NrMnj9Hun"
      }
    },
    {
      "cell_type": "code",
      "source": [
        "tinggi = int(input(\"Masukkan tinggi: \"))\n",
        "lebar = int(input(\"Masukkan lebar: \"))\n",
        "\n",
        "angka = 0\n",
        "for i in range(1, tinggi+1):\n",
        "    for i in range(1, lebar+1):\n",
        "        angka += 1\n",
        "        print(angka, \" \", end=\"\")\n",
        "    print()"
      ],
      "metadata": {
        "colab": {
          "base_uri": "https://localhost:8080/"
        },
        "id": "DBRxNAbG9Ixu",
        "outputId": "179fd1ca-343c-4845-d001-964bdddc07ba"
      },
      "execution_count": 9,
      "outputs": [
        {
          "output_type": "stream",
          "name": "stdout",
          "text": [
            "Masukkan tinggi: 5\n",
            "Masukkan lebar: 4\n",
            "1  2  3  4  \n",
            "5  6  7  8  \n",
            "9  10  11  12  \n",
            "13  14  15  16  \n",
            "17  18  19  20  \n"
          ]
        }
      ]
    }
  ]
}